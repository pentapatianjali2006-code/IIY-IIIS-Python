{
  "nbformat": 4,
  "nbformat_minor": 0,
  "metadata": {
    "colab": {
      "provenance": []
    },
    "kernelspec": {
      "name": "python3",
      "display_name": "Python 3"
    },
    "language_info": {
      "name": "python"
    }
  },
  "cells": [
    {
      "cell_type": "code",
      "execution_count": 2,
      "metadata": {
        "id": "47bJWWl7uaoT",
        "colab": {
          "base_uri": "https://localhost:8080/"
        },
        "outputId": "da53e012-b352-47a7-9c3a-7f538e6d0be6"
      },
      "outputs": [
        {
          "output_type": "stream",
          "name": "stdout",
          "text": [
            "Enter weight in Kg to Convert into pounds:6\n",
            "6.0  Kilograms = 13.200000000000001  Pounds\n"
          ]
        }
      ],
      "source": [
        "kilo_grams = float(input('Enter weight in Kg to Convert into pounds:'))\n",
        "pounds = kilo_grams * 2.2\n",
        "print(kilo_grams,' Kilograms =', pounds,' Pounds')\n"
      ]
    },
    {
      "cell_type": "code",
      "source": [
        "for i in range(8,90,3):\n",
        "  print(i,end=\" \")\n",
        "\n"
      ],
      "metadata": {
        "colab": {
          "base_uri": "https://localhost:8080/"
        },
        "id": "yElb5zpLS-fr",
        "outputId": "d41fa22d-a714-43c1-da9d-881d534b5a5e"
      },
      "execution_count": 3,
      "outputs": [
        {
          "output_type": "stream",
          "name": "stdout",
          "text": [
            "8 11 14 17 20 23 26 29 32 35 38 41 44 47 50 53 56 59 62 65 68 71 74 77 80 83 86 89 "
          ]
        }
      ]
    },
    {
      "cell_type": "code",
      "source": [
        "text = \"Hello\"\n",
        "char_list = list(text)\n",
        "print(char_list)\n",
        "# Output: ['H', 'e', 'l', 'l', 'o']\n",
        "\n"
      ],
      "metadata": {
        "colab": {
          "base_uri": "https://localhost:8080/"
        },
        "id": "aV6bhg0ZTHjv",
        "outputId": "442231d5-1946-4541-9790-43d715d40343"
      },
      "execution_count": 5,
      "outputs": [
        {
          "output_type": "stream",
          "name": "stdout",
          "text": [
            "['H', 'e', 'l', 'l', 'o']\n"
          ]
        }
      ]
    },
    {
      "cell_type": "code",
      "source": [
        "numbers = [10, 45, 2, 99, 65]\n",
        "largest = max(numbers)\n",
        "print(\"Largest number is:\", largest)\n",
        "\n"
      ],
      "metadata": {
        "colab": {
          "base_uri": "https://localhost:8080/"
        },
        "id": "yu1eULBFTRom",
        "outputId": "fecf61fa-3eeb-407b-e7bc-80d7b4d51fe8"
      },
      "execution_count": 6,
      "outputs": [
        {
          "output_type": "stream",
          "name": "stdout",
          "text": [
            "Largest number is: 99\n"
          ]
        }
      ]
    },
    {
      "cell_type": "code",
      "source": [
        "def fibonacci(n):\n",
        "  if n <= 0:\n",
        "     return \"Invalid input\"\n",
        "  elif n == 1:\n",
        "    return 0\n",
        "  elif n == 2:\n",
        "    return 1\n",
        "  else:\n",
        "    return fibonacci(n-1) + fibonacci(n-2)\n",
        "n = 7\n",
        "print(f\"Fibonacci number at position {n} is:\", fibonacci(n))\n",
        "\n"
      ],
      "metadata": {
        "colab": {
          "base_uri": "https://localhost:8080/"
        },
        "id": "9I8WVu-3TbrV",
        "outputId": "cc68a93c-79f5-4d85-cf91-4861a7f8f3e7"
      },
      "execution_count": 9,
      "outputs": [
        {
          "output_type": "stream",
          "name": "stdout",
          "text": [
            "Fibonacci number at position 7 is: 8\n"
          ]
        }
      ]
    }
  ]
}